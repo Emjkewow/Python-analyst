{
  "nbformat": 4,
  "nbformat_minor": 0,
  "metadata": {
    "colab": {
      "provenance": []
    },
    "kernelspec": {
      "name": "python3",
      "display_name": "Python 3"
    },
    "language_info": {
      "name": "python"
    }
  },
  "cells": [
    {
      "cell_type": "markdown",
      "source": [
        "Домашнее задание к лекции «Случайные события. Случайные величины»\n",
        "\n",
        "Смоделировать игру против лотерейного автомата типа “777”. Игрок платит 1 руб., после чего выпадает случайное целое число, равномерно распределенное от 0 до 999. При некоторых значениях числа игрок получает выигрыш.\n",
        "\n",
        "777: 200 руб.\n",
        "\n",
        "999: 100 руб.\n",
        "\n",
        "555: 50 руб.\n",
        "\n",
        "333: 15 руб.\n",
        "\n",
        "111: 10 руб.\n",
        "\n",
        "*77: 5 руб.\n",
        "\n",
        "**7: 3 руб.\n",
        "\n",
        "*00: 2 руб.\n",
        "\n",
        "**0: 1 руб.\n",
        "\n",
        "\n",
        "Вопросы:\n",
        "\n",
        "Выгодна ли игра игроку?\n",
        "\n",
        "Сколько в среднем приобретает или теряет игрок за одну игру?"
      ],
      "metadata": {
        "id": "C4vKgdsX6sz-"
      }
    },
    {
      "cell_type": "code",
      "source": [
        "import numpy as np\n",
        "\n",
        "outcomes = {777: 200, 999: 100, 555: 50, 333: 15, 111: 10} # Список всех возможных выигрышей\n",
        "n_simulations = 100000 # Количество симуляций игры\n",
        "count = n_simulations\n",
        "total_gain = 0\n",
        "cost_per_game = 1 # Стоимость одной игры\n",
        "\n",
        "win = 0\n",
        "lose = 0\n",
        "\n",
        "while n_simulations > 0:\n",
        "    n_simulations -= 1\n",
        "    random_number = np.random.randint(0, 1000)  # Случайное число от 0 до 999\n",
        "\n",
        "    if random_number in outcomes:\n",
        "        total_gain += outcomes[random_number]\n",
        "        win += 1\n",
        "    elif random_number % 100 == 77 and random_number != 777:\n",
        "        total_gain += 5\n",
        "        win += 1\n",
        "    elif random_number % 10 == 7 and random_number % 100 != 77:\n",
        "        total_gain += 3\n",
        "        win += 1\n",
        "    elif random_number % 100 == 0 and random_number != 0:\n",
        "        total_gain += 2\n",
        "        win += 1\n",
        "    elif random_number % 10 == 0 and random_number % 100 != 0:\n",
        "        total_gain += 1\n",
        "        win += 1\n",
        "    else:\n",
        "        lose += 1\n",
        "\n",
        "print(f'Итог: Выигрышей: {win}, Проигрышей: {lose}.')\n",
        "print(f'Доля побед: {round(win/(lose + win)*100, 2)}%')\n",
        "print(f'Выиграно: {total_gain} руб.')\n",
        "print(f'Разница выигранных и вложенных денег: {total_gain - count} руб.')\n"
      ],
      "metadata": {
        "colab": {
          "base_uri": "https://localhost:8080/"
        },
        "id": "dIdHPqJa2Xyo",
        "outputId": "072b5125-0243-4811-f785-4120fe168567"
      },
      "execution_count": null,
      "outputs": [
        {
          "output_type": "stream",
          "name": "stdout",
          "text": [
            "Итог: Выигрышей: 20307, Проигрышей: 79693.\n",
            "Доля побед: 20.31%\n",
            "Выиграно: 80984 руб.\n",
            "Разница выигранных и вложенных денег: -19016 руб.\n"
          ]
        }
      ]
    },
    {
      "cell_type": "markdown",
      "source": [
        "Игра не выгодна игроку. Доля побед составляет около 20%, что означает, что в среднем игрок будет терять около 80% своих средств на каждую игру.\n",
        "\n",
        "В среднем игрок теряет примерно 0.8015 руб. на каждую игру.\n",
        "\n",
        "Из результатов симуляции видно, что игрок выиграл 20305 игр и проиграл 79695 игр.\n",
        "\n"
      ],
      "metadata": {
        "id": "5jlnz2v8C7iR"
      }
    }
  ]
}